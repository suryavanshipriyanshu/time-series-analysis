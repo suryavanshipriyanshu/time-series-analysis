{
 "cells": [
  {
   "cell_type": "code",
   "execution_count": 2,
   "metadata": {},
   "outputs": [],
   "source": [
    "import pandas as pd\n",
    "import numpy as np\n",
    "import matplotlib as mp\n",
    "import os\n",
    "os.chdir(r'C:\\Users\\surya\\Desktop')"
   ]
  },
  {
   "cell_type": "code",
   "execution_count": 3,
   "metadata": {},
   "outputs": [
    {
     "data": {
      "text/plain": [
       "'C:\\\\Users\\\\surya\\\\Desktop'"
      ]
     },
     "execution_count": 3,
     "metadata": {},
     "output_type": "execute_result"
    }
   ],
   "source": [
    "pwd"
   ]
  },
  {
   "cell_type": "code",
   "execution_count": 18,
   "metadata": {},
   "outputs": [
    {
     "data": {
      "text/plain": [
       "(13026, 19)"
      ]
     },
     "execution_count": 18,
     "metadata": {},
     "output_type": "execute_result"
    }
   ],
   "source": [
    "df=pd.read_csv(\"Booking_Data_Assignment.csv\")\n",
    "df.shape"
   ]
  },
  {
   "cell_type": "code",
   "execution_count": 19,
   "metadata": {},
   "outputs": [
    {
     "data": {
      "text/html": [
       "<div>\n",
       "<style scoped>\n",
       "    .dataframe tbody tr th:only-of-type {\n",
       "        vertical-align: middle;\n",
       "    }\n",
       "\n",
       "    .dataframe tbody tr th {\n",
       "        vertical-align: top;\n",
       "    }\n",
       "\n",
       "    .dataframe thead th {\n",
       "        text-align: right;\n",
       "    }\n",
       "</style>\n",
       "<table border=\"1\" class=\"dataframe\">\n",
       "  <thead>\n",
       "    <tr style=\"text-align: right;\">\n",
       "      <th></th>\n",
       "      <th>ID</th>\n",
       "      <th>more_than_once</th>\n",
       "      <th>Intro View</th>\n",
       "      <th>Audio Journey</th>\n",
       "      <th>Self Explore</th>\n",
       "      <th>Accessories</th>\n",
       "      <th>EMI</th>\n",
       "      <th>Exchange</th>\n",
       "      <th>Book Now</th>\n",
       "      <th>Finance</th>\n",
       "      <th>Test Drive</th>\n",
       "      <th>Terms &amp; Condition</th>\n",
       "      <th>Model ID</th>\n",
       "      <th>Variant ID</th>\n",
       "      <th>Showroom Price</th>\n",
       "      <th>Accessories price</th>\n",
       "      <th>City</th>\n",
       "      <th>State</th>\n",
       "      <th>Pincode</th>\n",
       "    </tr>\n",
       "  </thead>\n",
       "  <tbody>\n",
       "    <tr>\n",
       "      <th>0</th>\n",
       "      <td>1040781</td>\n",
       "      <td>1</td>\n",
       "      <td>yes</td>\n",
       "      <td>no</td>\n",
       "      <td>no</td>\n",
       "      <td>yes</td>\n",
       "      <td>no</td>\n",
       "      <td>no</td>\n",
       "      <td>no</td>\n",
       "      <td>no</td>\n",
       "      <td>no</td>\n",
       "      <td>no</td>\n",
       "      <td>3</td>\n",
       "      <td>62</td>\n",
       "      <td>2049800</td>\n",
       "      <td>68,629</td>\n",
       "      <td>Delhi</td>\n",
       "      <td>Delhi</td>\n",
       "      <td>NaN</td>\n",
       "    </tr>\n",
       "    <tr>\n",
       "      <th>1</th>\n",
       "      <td>1040782</td>\n",
       "      <td>0</td>\n",
       "      <td>no</td>\n",
       "      <td>no</td>\n",
       "      <td>no</td>\n",
       "      <td>no</td>\n",
       "      <td>no</td>\n",
       "      <td>no</td>\n",
       "      <td>no</td>\n",
       "      <td>no</td>\n",
       "      <td>no</td>\n",
       "      <td>no</td>\n",
       "      <td>3</td>\n",
       "      <td>62</td>\n",
       "      <td>2069800</td>\n",
       "      <td>NaN</td>\n",
       "      <td>Delhi</td>\n",
       "      <td>Delhi</td>\n",
       "      <td>NaN</td>\n",
       "    </tr>\n",
       "    <tr>\n",
       "      <th>2</th>\n",
       "      <td>1040783</td>\n",
       "      <td>0</td>\n",
       "      <td>no</td>\n",
       "      <td>no</td>\n",
       "      <td>no</td>\n",
       "      <td>no</td>\n",
       "      <td>no</td>\n",
       "      <td>no</td>\n",
       "      <td>no</td>\n",
       "      <td>no</td>\n",
       "      <td>no</td>\n",
       "      <td>no</td>\n",
       "      <td>3</td>\n",
       "      <td>62</td>\n",
       "      <td>2069800</td>\n",
       "      <td>0</td>\n",
       "      <td>Delhi</td>\n",
       "      <td>Delhi</td>\n",
       "      <td>NaN</td>\n",
       "    </tr>\n",
       "    <tr>\n",
       "      <th>3</th>\n",
       "      <td>1040784</td>\n",
       "      <td>1</td>\n",
       "      <td>no</td>\n",
       "      <td>no</td>\n",
       "      <td>no</td>\n",
       "      <td>yes</td>\n",
       "      <td>no</td>\n",
       "      <td>no</td>\n",
       "      <td>no</td>\n",
       "      <td>no</td>\n",
       "      <td>no</td>\n",
       "      <td>no</td>\n",
       "      <td>5</td>\n",
       "      <td>85</td>\n",
       "      <td>1455800</td>\n",
       "      <td>21,697</td>\n",
       "      <td>Delhi</td>\n",
       "      <td>Delhi</td>\n",
       "      <td>NaN</td>\n",
       "    </tr>\n",
       "    <tr>\n",
       "      <th>4</th>\n",
       "      <td>1040785</td>\n",
       "      <td>1</td>\n",
       "      <td>no</td>\n",
       "      <td>no</td>\n",
       "      <td>no</td>\n",
       "      <td>no</td>\n",
       "      <td>no</td>\n",
       "      <td>no</td>\n",
       "      <td>no</td>\n",
       "      <td>no</td>\n",
       "      <td>no</td>\n",
       "      <td>no</td>\n",
       "      <td>4</td>\n",
       "      <td>93</td>\n",
       "      <td>4077800</td>\n",
       "      <td>0</td>\n",
       "      <td>Delhi</td>\n",
       "      <td>Delhi</td>\n",
       "      <td>NaN</td>\n",
       "    </tr>\n",
       "  </tbody>\n",
       "</table>\n",
       "</div>"
      ],
      "text/plain": [
       "        ID  more_than_once Intro View Audio Journey Self Explore Accessories  \\\n",
       "0  1040781               1        yes            no           no         yes   \n",
       "1  1040782               0         no            no           no          no   \n",
       "2  1040783               0         no            no           no          no   \n",
       "3  1040784               1         no            no           no         yes   \n",
       "4  1040785               1         no            no           no          no   \n",
       "\n",
       "  EMI Exchange Book Now Finance Test Drive Terms & Condition  Model ID  \\\n",
       "0  no       no       no      no         no                no         3   \n",
       "1  no       no       no      no         no                no         3   \n",
       "2  no       no       no      no         no                no         3   \n",
       "3  no       no       no      no         no                no         5   \n",
       "4  no       no       no      no         no                no         4   \n",
       "\n",
       "   Variant ID  Showroom Price Accessories price   City  State Pincode  \n",
       "0          62         2049800            68,629  Delhi  Delhi     NaN  \n",
       "1          62         2069800               NaN  Delhi  Delhi     NaN  \n",
       "2          62         2069800                 0  Delhi  Delhi     NaN  \n",
       "3          85         1455800            21,697  Delhi  Delhi     NaN  \n",
       "4          93         4077800                 0  Delhi  Delhi     NaN  "
      ]
     },
     "execution_count": 19,
     "metadata": {},
     "output_type": "execute_result"
    }
   ],
   "source": [
    "df.head()"
   ]
  },
  {
   "cell_type": "code",
   "execution_count": 6,
   "metadata": {
    "collapsed": true
   },
   "outputs": [
    {
     "data": {
      "text/html": [
       "<div>\n",
       "<style scoped>\n",
       "    .dataframe tbody tr th:only-of-type {\n",
       "        vertical-align: middle;\n",
       "    }\n",
       "\n",
       "    .dataframe tbody tr th {\n",
       "        vertical-align: top;\n",
       "    }\n",
       "\n",
       "    .dataframe thead th {\n",
       "        text-align: right;\n",
       "    }\n",
       "</style>\n",
       "<table border=\"1\" class=\"dataframe\">\n",
       "  <thead>\n",
       "    <tr style=\"text-align: right;\">\n",
       "      <th></th>\n",
       "      <th>ID</th>\n",
       "      <th>more_than_once</th>\n",
       "      <th>Model ID</th>\n",
       "      <th>Variant ID</th>\n",
       "      <th>Showroom Price</th>\n",
       "    </tr>\n",
       "  </thead>\n",
       "  <tbody>\n",
       "    <tr>\n",
       "      <th>count</th>\n",
       "      <td>1.302600e+04</td>\n",
       "      <td>13026.000000</td>\n",
       "      <td>13026.000000</td>\n",
       "      <td>13026.000000</td>\n",
       "      <td>1.302600e+04</td>\n",
       "    </tr>\n",
       "    <tr>\n",
       "      <th>mean</th>\n",
       "      <td>1.050714e+06</td>\n",
       "      <td>0.493168</td>\n",
       "      <td>3.708506</td>\n",
       "      <td>68.787655</td>\n",
       "      <td>2.067519e+06</td>\n",
       "    </tr>\n",
       "    <tr>\n",
       "      <th>std</th>\n",
       "      <td>5.839826e+03</td>\n",
       "      <td>0.499973</td>\n",
       "      <td>1.752568</td>\n",
       "      <td>16.238966</td>\n",
       "      <td>7.372671e+05</td>\n",
       "    </tr>\n",
       "    <tr>\n",
       "      <th>min</th>\n",
       "      <td>1.040781e+06</td>\n",
       "      <td>0.000000</td>\n",
       "      <td>1.000000</td>\n",
       "      <td>36.000000</td>\n",
       "      <td>1.031800e+06</td>\n",
       "    </tr>\n",
       "    <tr>\n",
       "      <th>25%</th>\n",
       "      <td>1.045609e+06</td>\n",
       "      <td>0.000000</td>\n",
       "      <td>3.000000</td>\n",
       "      <td>59.000000</td>\n",
       "      <td>1.669800e+06</td>\n",
       "    </tr>\n",
       "    <tr>\n",
       "      <th>50%</th>\n",
       "      <td>1.050596e+06</td>\n",
       "      <td>0.000000</td>\n",
       "      <td>5.000000</td>\n",
       "      <td>73.000000</td>\n",
       "      <td>1.977800e+06</td>\n",
       "    </tr>\n",
       "    <tr>\n",
       "      <th>75%</th>\n",
       "      <td>1.055752e+06</td>\n",
       "      <td>1.000000</td>\n",
       "      <td>5.000000</td>\n",
       "      <td>80.000000</td>\n",
       "      <td>2.069800e+06</td>\n",
       "    </tr>\n",
       "    <tr>\n",
       "      <th>max</th>\n",
       "      <td>1.060907e+06</td>\n",
       "      <td>1.000000</td>\n",
       "      <td>7.000000</td>\n",
       "      <td>136.000000</td>\n",
       "      <td>4.077800e+06</td>\n",
       "    </tr>\n",
       "  </tbody>\n",
       "</table>\n",
       "</div>"
      ],
      "text/plain": [
       "                 ID  more_than_once      Model ID    Variant ID  \\\n",
       "count  1.302600e+04    13026.000000  13026.000000  13026.000000   \n",
       "mean   1.050714e+06        0.493168      3.708506     68.787655   \n",
       "std    5.839826e+03        0.499973      1.752568     16.238966   \n",
       "min    1.040781e+06        0.000000      1.000000     36.000000   \n",
       "25%    1.045609e+06        0.000000      3.000000     59.000000   \n",
       "50%    1.050596e+06        0.000000      5.000000     73.000000   \n",
       "75%    1.055752e+06        1.000000      5.000000     80.000000   \n",
       "max    1.060907e+06        1.000000      7.000000    136.000000   \n",
       "\n",
       "       Showroom Price  \n",
       "count    1.302600e+04  \n",
       "mean     2.067519e+06  \n",
       "std      7.372671e+05  \n",
       "min      1.031800e+06  \n",
       "25%      1.669800e+06  \n",
       "50%      1.977800e+06  \n",
       "75%      2.069800e+06  \n",
       "max      4.077800e+06  "
      ]
     },
     "execution_count": 6,
     "metadata": {},
     "output_type": "execute_result"
    }
   ],
   "source": [
    "df.describe()"
   ]
  },
  {
   "cell_type": "code",
   "execution_count": 7,
   "metadata": {
    "collapsed": true
   },
   "outputs": [
    {
     "name": "stdout",
     "output_type": "stream",
     "text": [
      "<class 'pandas.core.frame.DataFrame'>\n",
      "RangeIndex: 13026 entries, 0 to 13025\n",
      "Data columns (total 19 columns):\n",
      " #   Column             Non-Null Count  Dtype \n",
      "---  ------             --------------  ----- \n",
      " 0   ID                 13026 non-null  int64 \n",
      " 1   more_than_once     13026 non-null  int64 \n",
      " 2   Intro View         13026 non-null  object\n",
      " 3   Audio Journey      13026 non-null  object\n",
      " 4   Self Explore       13026 non-null  object\n",
      " 5   Accessories        13026 non-null  object\n",
      " 6   EMI                13026 non-null  object\n",
      " 7   Exchange           13026 non-null  object\n",
      " 8   Book Now           13026 non-null  object\n",
      " 9   Finance            13026 non-null  object\n",
      " 10  Test Drive         13026 non-null  object\n",
      " 11  Terms & Condition  13026 non-null  object\n",
      " 12  Model ID           13026 non-null  int64 \n",
      " 13  Variant ID         13026 non-null  int64 \n",
      " 14  Showroom Price     13026 non-null  int64 \n",
      " 15  Accessories price  10498 non-null  object\n",
      " 16  City               13026 non-null  object\n",
      " 17  State              13026 non-null  object\n",
      " 18  Pincode            1165 non-null   object\n",
      "dtypes: int64(5), object(14)\n",
      "memory usage: 1.9+ MB\n"
     ]
    }
   ],
   "source": [
    "df.info()"
   ]
  },
  {
   "cell_type": "code",
   "execution_count": 8,
   "metadata": {
    "collapsed": true
   },
   "outputs": [
    {
     "data": {
      "text/plain": [
       "City\n",
       "Agra             4\n",
       "Ahmedabad        5\n",
       "Ajmer            1\n",
       "Aligarh          2\n",
       "Allahabad        1\n",
       "                ..\n",
       "Varanasi         1\n",
       "Vijayawada      11\n",
       "Vizag           64\n",
       "Warangal         5\n",
       "Yamuna Nagar     1\n",
       "Name: ID, Length: 107, dtype: int64"
      ]
     },
     "execution_count": 8,
     "metadata": {},
     "output_type": "execute_result"
    }
   ],
   "source": [
    "df.groupby(['City'])['ID'].nunique()"
   ]
  },
  {
   "cell_type": "code",
   "execution_count": 9,
   "metadata": {
    "collapsed": true
   },
   "outputs": [
    {
     "data": {
      "text/plain": [
       "State\n",
       "Andhra Pradesh          98\n",
       "Assam                   13\n",
       "Bihar                    5\n",
       "Chandigarh               3\n",
       "Chhattisgarh             7\n",
       "Delhi                11491\n",
       "Goa                      4\n",
       "Gujarat                 66\n",
       "Haryana                174\n",
       "Himachal Pradesh         2\n",
       "Jammu and Kashmir        3\n",
       "Jharkhand               10\n",
       "Karnataka              399\n",
       "Kerala                  19\n",
       "Madhya Pradesh          17\n",
       "Maharashtra            360\n",
       "Odisha                  26\n",
       "Punjab                  15\n",
       "Rajasthan                5\n",
       "Tamil Nadu             142\n",
       "Telangana              104\n",
       "Uttar Pradesh           37\n",
       "Uttarakhand              7\n",
       "West Bengal             19\n",
       "Name: ID, dtype: int64"
      ]
     },
     "execution_count": 9,
     "metadata": {},
     "output_type": "execute_result"
    }
   ],
   "source": [
    "df.groupby(['State'])['ID'].nunique()"
   ]
  },
  {
   "cell_type": "code",
   "execution_count": 20,
   "metadata": {},
   "outputs": [],
   "source": [
    "#Removing variables the could introduce bias because of uneven distribution\n",
    "df.drop(['City','State','Pincode'],axis=1,inplace=True)"
   ]
  },
  {
   "cell_type": "code",
   "execution_count": 21,
   "metadata": {},
   "outputs": [
    {
     "data": {
      "text/plain": [
       "(13026, 16)"
      ]
     },
     "execution_count": 21,
     "metadata": {},
     "output_type": "execute_result"
    }
   ],
   "source": [
    "df.shape"
   ]
  },
  {
   "cell_type": "code",
   "execution_count": 12,
   "metadata": {},
   "outputs": [
    {
     "name": "stdout",
     "output_type": "stream",
     "text": [
      "['ID', 'more_than_once', 'Intro View', 'Audio Journey', 'Self Explore', 'Accessories', 'EMI', 'Exchange', 'Book Now', 'Finance', 'Test Drive', 'Terms & Condition', 'Model ID', 'Variant ID', 'Showroom Price', 'Accessories price']\n"
     ]
    }
   ],
   "source": [
    "print(df.columns.tolist())"
   ]
  },
  {
   "cell_type": "code",
   "execution_count": 13,
   "metadata": {},
   "outputs": [
    {
     "data": {
      "text/html": [
       "<div>\n",
       "<style scoped>\n",
       "    .dataframe tbody tr th:only-of-type {\n",
       "        vertical-align: middle;\n",
       "    }\n",
       "\n",
       "    .dataframe tbody tr th {\n",
       "        vertical-align: top;\n",
       "    }\n",
       "\n",
       "    .dataframe thead th {\n",
       "        text-align: right;\n",
       "    }\n",
       "</style>\n",
       "<table border=\"1\" class=\"dataframe\">\n",
       "  <thead>\n",
       "    <tr style=\"text-align: right;\">\n",
       "      <th></th>\n",
       "      <th>ID</th>\n",
       "      <th>more_than_once</th>\n",
       "      <th>Intro View</th>\n",
       "      <th>Audio Journey</th>\n",
       "      <th>Self Explore</th>\n",
       "      <th>Accessories</th>\n",
       "      <th>EMI</th>\n",
       "      <th>Exchange</th>\n",
       "      <th>Book Now</th>\n",
       "      <th>Finance</th>\n",
       "      <th>Test Drive</th>\n",
       "      <th>Terms &amp; Condition</th>\n",
       "      <th>Model ID</th>\n",
       "      <th>Variant ID</th>\n",
       "      <th>Showroom Price</th>\n",
       "      <th>Accessories price</th>\n",
       "    </tr>\n",
       "  </thead>\n",
       "  <tbody>\n",
       "    <tr>\n",
       "      <th>0</th>\n",
       "      <td>1040781</td>\n",
       "      <td>1</td>\n",
       "      <td>yes</td>\n",
       "      <td>no</td>\n",
       "      <td>no</td>\n",
       "      <td>yes</td>\n",
       "      <td>no</td>\n",
       "      <td>no</td>\n",
       "      <td>no</td>\n",
       "      <td>no</td>\n",
       "      <td>no</td>\n",
       "      <td>no</td>\n",
       "      <td>3</td>\n",
       "      <td>62</td>\n",
       "      <td>2049800</td>\n",
       "      <td>68,629</td>\n",
       "    </tr>\n",
       "    <tr>\n",
       "      <th>1</th>\n",
       "      <td>1040782</td>\n",
       "      <td>0</td>\n",
       "      <td>no</td>\n",
       "      <td>no</td>\n",
       "      <td>no</td>\n",
       "      <td>no</td>\n",
       "      <td>no</td>\n",
       "      <td>no</td>\n",
       "      <td>no</td>\n",
       "      <td>no</td>\n",
       "      <td>no</td>\n",
       "      <td>no</td>\n",
       "      <td>3</td>\n",
       "      <td>62</td>\n",
       "      <td>2069800</td>\n",
       "      <td>NaN</td>\n",
       "    </tr>\n",
       "    <tr>\n",
       "      <th>2</th>\n",
       "      <td>1040783</td>\n",
       "      <td>0</td>\n",
       "      <td>no</td>\n",
       "      <td>no</td>\n",
       "      <td>no</td>\n",
       "      <td>no</td>\n",
       "      <td>no</td>\n",
       "      <td>no</td>\n",
       "      <td>no</td>\n",
       "      <td>no</td>\n",
       "      <td>no</td>\n",
       "      <td>no</td>\n",
       "      <td>3</td>\n",
       "      <td>62</td>\n",
       "      <td>2069800</td>\n",
       "      <td>0</td>\n",
       "    </tr>\n",
       "    <tr>\n",
       "      <th>3</th>\n",
       "      <td>1040784</td>\n",
       "      <td>1</td>\n",
       "      <td>no</td>\n",
       "      <td>no</td>\n",
       "      <td>no</td>\n",
       "      <td>yes</td>\n",
       "      <td>no</td>\n",
       "      <td>no</td>\n",
       "      <td>no</td>\n",
       "      <td>no</td>\n",
       "      <td>no</td>\n",
       "      <td>no</td>\n",
       "      <td>5</td>\n",
       "      <td>85</td>\n",
       "      <td>1455800</td>\n",
       "      <td>21,697</td>\n",
       "    </tr>\n",
       "    <tr>\n",
       "      <th>4</th>\n",
       "      <td>1040785</td>\n",
       "      <td>1</td>\n",
       "      <td>no</td>\n",
       "      <td>no</td>\n",
       "      <td>no</td>\n",
       "      <td>no</td>\n",
       "      <td>no</td>\n",
       "      <td>no</td>\n",
       "      <td>no</td>\n",
       "      <td>no</td>\n",
       "      <td>no</td>\n",
       "      <td>no</td>\n",
       "      <td>4</td>\n",
       "      <td>93</td>\n",
       "      <td>4077800</td>\n",
       "      <td>0</td>\n",
       "    </tr>\n",
       "  </tbody>\n",
       "</table>\n",
       "</div>"
      ],
      "text/plain": [
       "        ID  more_than_once Intro View Audio Journey Self Explore Accessories  \\\n",
       "0  1040781               1        yes            no           no         yes   \n",
       "1  1040782               0         no            no           no          no   \n",
       "2  1040783               0         no            no           no          no   \n",
       "3  1040784               1         no            no           no         yes   \n",
       "4  1040785               1         no            no           no          no   \n",
       "\n",
       "  EMI Exchange Book Now Finance Test Drive Terms & Condition  Model ID  \\\n",
       "0  no       no       no      no         no                no         3   \n",
       "1  no       no       no      no         no                no         3   \n",
       "2  no       no       no      no         no                no         3   \n",
       "3  no       no       no      no         no                no         5   \n",
       "4  no       no       no      no         no                no         4   \n",
       "\n",
       "   Variant ID  Showroom Price Accessories price  \n",
       "0          62         2049800            68,629  \n",
       "1          62         2069800               NaN  \n",
       "2          62         2069800                 0  \n",
       "3          85         1455800            21,697  \n",
       "4          93         4077800                 0  "
      ]
     },
     "execution_count": 13,
     "metadata": {},
     "output_type": "execute_result"
    }
   ],
   "source": [
    "df.head()"
   ]
  },
  {
   "cell_type": "code",
   "execution_count": 22,
   "metadata": {},
   "outputs": [],
   "source": [
    "df['Intro View'] = df['Intro View'].map({'yes': 1, 'no': 0})\n",
    "df['Audio Journey'] = df['Audio Journey'].map({'yes': 1, 'no': 0})\n",
    "df['Self Explore'] = df['Self Explore'].map({'yes': 1, 'no': 0})\n",
    "df['Accessories'] = df['Accessories'].map({'yes': 1, 'no': 0})\n",
    "df['EMI'] = df['EMI'].map({'yes': 1, 'no': 0})\n",
    "df['Exchange'] = df['Exchange'].map({'yes': 1, 'no': 0})\n",
    "#df['Book Now'] = df['Intro View'].map({'yes': 1, 'no': 0})\n",
    "df['Finance'] = df['Finance'].map({'yes': 1, 'no': 0})\n",
    "df['Test Drive'] = df['Test Drive'].map({'yes': 1, 'no': 0})\n",
    "df['Terms & Condition'] = df['Terms & Condition'].map({'yes': 1, 'no': 0})"
   ]
  },
  {
   "cell_type": "code",
   "execution_count": 23,
   "metadata": {},
   "outputs": [
    {
     "data": {
      "text/html": [
       "<div>\n",
       "<style scoped>\n",
       "    .dataframe tbody tr th:only-of-type {\n",
       "        vertical-align: middle;\n",
       "    }\n",
       "\n",
       "    .dataframe tbody tr th {\n",
       "        vertical-align: top;\n",
       "    }\n",
       "\n",
       "    .dataframe thead th {\n",
       "        text-align: right;\n",
       "    }\n",
       "</style>\n",
       "<table border=\"1\" class=\"dataframe\">\n",
       "  <thead>\n",
       "    <tr style=\"text-align: right;\">\n",
       "      <th></th>\n",
       "      <th>ID</th>\n",
       "      <th>more_than_once</th>\n",
       "      <th>Intro View</th>\n",
       "      <th>Audio Journey</th>\n",
       "      <th>Self Explore</th>\n",
       "      <th>Accessories</th>\n",
       "      <th>EMI</th>\n",
       "      <th>Exchange</th>\n",
       "      <th>Book Now</th>\n",
       "      <th>Finance</th>\n",
       "      <th>Test Drive</th>\n",
       "      <th>Terms &amp; Condition</th>\n",
       "      <th>Model ID</th>\n",
       "      <th>Variant ID</th>\n",
       "      <th>Showroom Price</th>\n",
       "      <th>Accessories price</th>\n",
       "    </tr>\n",
       "  </thead>\n",
       "  <tbody>\n",
       "    <tr>\n",
       "      <th>0</th>\n",
       "      <td>1040781</td>\n",
       "      <td>1</td>\n",
       "      <td>1</td>\n",
       "      <td>0</td>\n",
       "      <td>0</td>\n",
       "      <td>1</td>\n",
       "      <td>0</td>\n",
       "      <td>0</td>\n",
       "      <td>no</td>\n",
       "      <td>0</td>\n",
       "      <td>0</td>\n",
       "      <td>0</td>\n",
       "      <td>3</td>\n",
       "      <td>62</td>\n",
       "      <td>2049800</td>\n",
       "      <td>68,629</td>\n",
       "    </tr>\n",
       "    <tr>\n",
       "      <th>1</th>\n",
       "      <td>1040782</td>\n",
       "      <td>0</td>\n",
       "      <td>0</td>\n",
       "      <td>0</td>\n",
       "      <td>0</td>\n",
       "      <td>0</td>\n",
       "      <td>0</td>\n",
       "      <td>0</td>\n",
       "      <td>no</td>\n",
       "      <td>0</td>\n",
       "      <td>0</td>\n",
       "      <td>0</td>\n",
       "      <td>3</td>\n",
       "      <td>62</td>\n",
       "      <td>2069800</td>\n",
       "      <td>NaN</td>\n",
       "    </tr>\n",
       "    <tr>\n",
       "      <th>2</th>\n",
       "      <td>1040783</td>\n",
       "      <td>0</td>\n",
       "      <td>0</td>\n",
       "      <td>0</td>\n",
       "      <td>0</td>\n",
       "      <td>0</td>\n",
       "      <td>0</td>\n",
       "      <td>0</td>\n",
       "      <td>no</td>\n",
       "      <td>0</td>\n",
       "      <td>0</td>\n",
       "      <td>0</td>\n",
       "      <td>3</td>\n",
       "      <td>62</td>\n",
       "      <td>2069800</td>\n",
       "      <td>0</td>\n",
       "    </tr>\n",
       "    <tr>\n",
       "      <th>3</th>\n",
       "      <td>1040784</td>\n",
       "      <td>1</td>\n",
       "      <td>0</td>\n",
       "      <td>0</td>\n",
       "      <td>0</td>\n",
       "      <td>1</td>\n",
       "      <td>0</td>\n",
       "      <td>0</td>\n",
       "      <td>no</td>\n",
       "      <td>0</td>\n",
       "      <td>0</td>\n",
       "      <td>0</td>\n",
       "      <td>5</td>\n",
       "      <td>85</td>\n",
       "      <td>1455800</td>\n",
       "      <td>21,697</td>\n",
       "    </tr>\n",
       "    <tr>\n",
       "      <th>4</th>\n",
       "      <td>1040785</td>\n",
       "      <td>1</td>\n",
       "      <td>0</td>\n",
       "      <td>0</td>\n",
       "      <td>0</td>\n",
       "      <td>0</td>\n",
       "      <td>0</td>\n",
       "      <td>0</td>\n",
       "      <td>no</td>\n",
       "      <td>0</td>\n",
       "      <td>0</td>\n",
       "      <td>0</td>\n",
       "      <td>4</td>\n",
       "      <td>93</td>\n",
       "      <td>4077800</td>\n",
       "      <td>0</td>\n",
       "    </tr>\n",
       "  </tbody>\n",
       "</table>\n",
       "</div>"
      ],
      "text/plain": [
       "        ID  more_than_once  Intro View  Audio Journey  Self Explore  \\\n",
       "0  1040781               1           1              0             0   \n",
       "1  1040782               0           0              0             0   \n",
       "2  1040783               0           0              0             0   \n",
       "3  1040784               1           0              0             0   \n",
       "4  1040785               1           0              0             0   \n",
       "\n",
       "   Accessories  EMI  Exchange Book Now  Finance  Test Drive  \\\n",
       "0            1    0         0       no        0           0   \n",
       "1            0    0         0       no        0           0   \n",
       "2            0    0         0       no        0           0   \n",
       "3            1    0         0       no        0           0   \n",
       "4            0    0         0       no        0           0   \n",
       "\n",
       "   Terms & Condition  Model ID  Variant ID  Showroom Price Accessories price  \n",
       "0                  0         3          62         2049800            68,629  \n",
       "1                  0         3          62         2069800               NaN  \n",
       "2                  0         3          62         2069800                 0  \n",
       "3                  0         5          85         1455800            21,697  \n",
       "4                  0         4          93         4077800                 0  "
      ]
     },
     "execution_count": 23,
     "metadata": {},
     "output_type": "execute_result"
    }
   ],
   "source": [
    "df.head()"
   ]
  },
  {
   "cell_type": "code",
   "execution_count": 24,
   "metadata": {},
   "outputs": [
    {
     "data": {
      "text/plain": [
       "Book Now\n",
       "no     12975\n",
       "yes       51\n",
       "Name: ID, dtype: int64"
      ]
     },
     "execution_count": 24,
     "metadata": {},
     "output_type": "execute_result"
    }
   ],
   "source": [
    "df.groupby(['Book Now'])['ID'].nunique()"
   ]
  },
  {
   "cell_type": "code",
   "execution_count": 32,
   "metadata": {},
   "outputs": [
    {
     "data": {
      "text/plain": [
       "['Book Now']"
      ]
     },
     "execution_count": 32,
     "metadata": {},
     "output_type": "execute_result"
    }
   ],
   "source": [
    "df.select_dtypes(include=['object']).columns.tolist()"
   ]
  },
  {
   "cell_type": "code",
   "execution_count": 26,
   "metadata": {},
   "outputs": [
    {
     "data": {
      "text/plain": [
       "count     10498\n",
       "unique     2889\n",
       "top           0\n",
       "freq       6486\n",
       "Name: Accessories price, dtype: object"
      ]
     },
     "execution_count": 26,
     "metadata": {},
     "output_type": "execute_result"
    }
   ],
   "source": [
    "df['Accessories price'].describe()"
   ]
  },
  {
   "cell_type": "code",
   "execution_count": 29,
   "metadata": {},
   "outputs": [
    {
     "data": {
      "text/plain": [
       "0"
      ]
     },
     "execution_count": 29,
     "metadata": {},
     "output_type": "execute_result"
    }
   ],
   "source": [
    "df['Accessories price'].isnull().sum()"
   ]
  },
  {
   "cell_type": "code",
   "execution_count": 28,
   "metadata": {},
   "outputs": [],
   "source": [
    "#Replacing nan with zeroes\n",
    "df['Accessories price']=df['Accessories price'].fillna(0)"
   ]
  },
  {
   "cell_type": "code",
   "execution_count": 31,
   "metadata": {},
   "outputs": [],
   "source": [
    "df['Accessories price']=pd.to_numeric(df['Accessories price'], errors='coerce').fillna(0, downcast='infer')\n"
   ]
  },
  {
   "cell_type": "code",
   "execution_count": 34,
   "metadata": {},
   "outputs": [
    {
     "data": {
      "text/plain": [
       "(13026, 16)"
      ]
     },
     "execution_count": 34,
     "metadata": {},
     "output_type": "execute_result"
    }
   ],
   "source": [
    "df2=df.copy()\n",
    "df2.shape"
   ]
  },
  {
   "cell_type": "code",
   "execution_count": 35,
   "metadata": {},
   "outputs": [
    {
     "data": {
      "text/plain": [
       "Index(['ID', 'more_than_once', 'Intro View', 'Audio Journey', 'Self Explore',\n",
       "       'Accessories', 'EMI', 'Exchange', 'Book Now', 'Finance', 'Test Drive',\n",
       "       'Terms & Condition', 'Model ID', 'Variant ID', 'Showroom Price',\n",
       "       'Accessories price'],\n",
       "      dtype='object')"
      ]
     },
     "execution_count": 35,
     "metadata": {},
     "output_type": "execute_result"
    }
   ],
   "source": [
    "df.columns"
   ]
  },
  {
   "cell_type": "markdown",
   "metadata": {},
   "source": [
    "# creating dummy variables"
   ]
  },
  {
   "cell_type": "code",
   "execution_count": 36,
   "metadata": {},
   "outputs": [],
   "source": [
    "dummies = pd.get_dummies(df['Model ID']).rename(columns=lambda x: 'Model_ID_' + str(x))\n",
    "df=pd.concat([df,dummies],axis=1)\n",
    "df.drop(['Model ID'],axis=1,inplace = True)"
   ]
  },
  {
   "cell_type": "code",
   "execution_count": 37,
   "metadata": {},
   "outputs": [],
   "source": [
    "dummies = pd.get_dummies(df['Variant ID']).rename(columns=lambda x: 'Variant ID_' + str(x))\n",
    "df=pd.concat([df,dummies],axis=1)\n",
    "df.drop(['Variant ID'],axis=1,inplace = True)"
   ]
  },
  {
   "cell_type": "code",
   "execution_count": 38,
   "metadata": {},
   "outputs": [
    {
     "data": {
      "text/plain": [
       "(13026, 72)"
      ]
     },
     "execution_count": 38,
     "metadata": {},
     "output_type": "execute_result"
    }
   ],
   "source": [
    "df.shape"
   ]
  },
  {
   "cell_type": "markdown",
   "metadata": {},
   "source": [
    "# Logistic Regression"
   ]
  },
  {
   "cell_type": "code",
   "execution_count": 39,
   "metadata": {},
   "outputs": [
    {
     "name": "stdout",
     "output_type": "stream",
     "text": [
      "(13026, 71)\n",
      "(13026,)\n"
     ]
    }
   ],
   "source": [
    "x=df.drop(['Book Now'],axis=1)\n",
    "print(x.shape)\n",
    "y=df['Book Now']\n",
    "print(y.shape)"
   ]
  },
  {
   "cell_type": "code",
   "execution_count": 40,
   "metadata": {},
   "outputs": [],
   "source": [
    "feature_names=x.columns\n",
    "labels=y.unique()"
   ]
  },
  {
   "cell_type": "code",
   "execution_count": 43,
   "metadata": {},
   "outputs": [],
   "source": [
    "from sklearn.model_selection import train_test_split\n",
    "X_train,test_x,y_train,test_lab = train_test_split(x,y,test_size = 0.4,\n",
    "                                                  random_state=45)"
   ]
  },
  {
   "cell_type": "code",
   "execution_count": 41,
   "metadata": {},
   "outputs": [],
   "source": [
    "from sklearn.linear_model import LogisticRegression"
   ]
  },
  {
   "cell_type": "code",
   "execution_count": 44,
   "metadata": {},
   "outputs": [],
   "source": [
    "logisticRegr = LogisticRegression(solver = 'lbfgs')"
   ]
  },
  {
   "cell_type": "code",
   "execution_count": 45,
   "metadata": {},
   "outputs": [],
   "source": [
    "model=logisticRegr.fit(X_train, y_train)"
   ]
  },
  {
   "cell_type": "code",
   "execution_count": 59,
   "metadata": {},
   "outputs": [
    {
     "data": {
      "text/plain": [
       "LogisticRegression()"
      ]
     },
     "execution_count": 59,
     "metadata": {},
     "output_type": "execute_result"
    }
   ],
   "source": [
    "model"
   ]
  },
  {
   "cell_type": "code",
   "execution_count": null,
   "metadata": {},
   "outputs": [],
   "source": [
    "#predicting the model"
   ]
  },
  {
   "cell_type": "code",
   "execution_count": 47,
   "metadata": {},
   "outputs": [],
   "source": [
    "test_predict=model.predict(test_x)"
   ]
  },
  {
   "cell_type": "code",
   "execution_count": 48,
   "metadata": {},
   "outputs": [
    {
     "data": {
      "text/plain": [
       "array(['no', 'no', 'no', ..., 'no', 'no', 'no'], dtype=object)"
      ]
     },
     "execution_count": 48,
     "metadata": {},
     "output_type": "execute_result"
    }
   ],
   "source": [
    "test_predict"
   ]
  },
  {
   "cell_type": "code",
   "execution_count": 82,
   "metadata": {},
   "outputs": [],
   "source": [
    "from sklearn import metrics\n",
    "import seaborn as sns"
   ]
  },
  {
   "cell_type": "code",
   "execution_count": 83,
   "metadata": {},
   "outputs": [
    {
     "name": "stdout",
     "output_type": "stream",
     "text": [
      "[[5193    0]\n",
      " [  18    0]]\n"
     ]
    }
   ],
   "source": [
    "confusion_metrics=metrics.confusion_matrix(test_lab,test_predict)\n",
    "print(confusion_metrics)"
   ]
  },
  {
   "cell_type": "code",
   "execution_count": 84,
   "metadata": {},
   "outputs": [
    {
     "data": {
      "text/plain": [
       "0.9965457685664939"
      ]
     },
     "execution_count": 84,
     "metadata": {},
     "output_type": "execute_result"
    }
   ],
   "source": [
    "#Accuracy\n",
    "metrics.accuracy_score(test_lab,test_predict)"
   ]
  },
  {
   "cell_type": "code",
   "execution_count": 85,
   "metadata": {},
   "outputs": [
    {
     "data": {
      "text/plain": [
       "Index(['ID', 'more_than_once', 'Intro View', 'Audio Journey', 'Self Explore',\n",
       "       'Accessories', 'EMI', 'Exchange', 'Finance', 'Test Drive',\n",
       "       'Terms & Condition', 'Showroom Price', 'Accessories price',\n",
       "       'Model_ID_1', 'Model_ID_3', 'Model_ID_4', 'Model_ID_5', 'Model_ID_6',\n",
       "       'Model_ID_7', 'Variant ID_36', 'Variant ID_38', 'Variant ID_40',\n",
       "       'Variant ID_41', 'Variant ID_44', 'Variant ID_45', 'Variant ID_46',\n",
       "       'Variant ID_47', 'Variant ID_50', 'Variant ID_52', 'Variant ID_53',\n",
       "       'Variant ID_55', 'Variant ID_56', 'Variant ID_57', 'Variant ID_58',\n",
       "       'Variant ID_59', 'Variant ID_60', 'Variant ID_62', 'Variant ID_63',\n",
       "       'Variant ID_64', 'Variant ID_65', 'Variant ID_67', 'Variant ID_68',\n",
       "       'Variant ID_69', 'Variant ID_70', 'Variant ID_71', 'Variant ID_72',\n",
       "       'Variant ID_73', 'Variant ID_74', 'Variant ID_75', 'Variant ID_76',\n",
       "       'Variant ID_77', 'Variant ID_78', 'Variant ID_80', 'Variant ID_81',\n",
       "       'Variant ID_82', 'Variant ID_83', 'Variant ID_84', 'Variant ID_85',\n",
       "       'Variant ID_86', 'Variant ID_87', 'Variant ID_88', 'Variant ID_89',\n",
       "       'Variant ID_90', 'Variant ID_92', 'Variant ID_93', 'Variant ID_94',\n",
       "       'Variant ID_108', 'Variant ID_133', 'Variant ID_134', 'Variant ID_135',\n",
       "       'Variant ID_136'],\n",
       "      dtype='object')"
      ]
     },
     "execution_count": 85,
     "metadata": {},
     "output_type": "execute_result"
    }
   ],
   "source": [
    "X_train.columns"
   ]
  },
  {
   "cell_type": "code",
   "execution_count": 91,
   "metadata": {},
   "outputs": [
    {
     "name": "stdout",
     "output_type": "stream",
     "text": [
      "[[-4.33735830e-06  1.71729525e-11 -6.97782833e-13  3.02989451e-13\n",
      "   1.41657843e-12  3.04464464e-12  8.15095576e-12  0.00000000e+00\n",
      "   0.00000000e+00  2.52228627e-12  0.00000000e+00 -4.59445305e-07\n",
      "  -1.12267647e-09  1.93267644e-12  4.07481452e-12 -2.15461249e-12\n",
      "  -1.43647120e-11  6.35252407e-12 -3.63631357e-15 -2.21389331e-13\n",
      "  -6.83633720e-14 -9.89763973e-14 -1.34381114e-13  2.11848138e-12\n",
      "   1.13245070e-12 -4.35126587e-12  2.27426717e-12  1.08988969e-12\n",
      "  -6.17444687e-14 -2.11567993e-13 -9.48248666e-14 -8.61509928e-14\n",
      "  -2.46939355e-13 -6.20494601e-14  3.37032186e-12  1.17902754e-12\n",
      "  -7.43150238e-13 -1.54668975e-13  8.25435574e-13  8.49293114e-13\n",
      "  -1.28806655e-12 -2.76844232e-12 -8.34168988e-13 -6.62786443e-13\n",
      "  -2.91743906e-13 -4.60848488e-13 -1.34171948e-12  1.65443378e-12\n",
      "  -4.61146333e-12 -1.12536217e-13  1.06774330e-12 -5.63501953e-13\n",
      "   2.28476550e-12  6.83108358e-13 -1.30709156e-12 -2.22161042e-12\n",
      "   7.60178652e-13 -1.01520629e-12  3.38465021e-12 -1.05338580e-13\n",
      "  -1.61873274e-12 -3.37782875e-14 -4.14038879e-14 -3.50986013e-14\n",
      "  -3.20260392e-13 -8.91780852e-14 -3.63631357e-15 -5.79972030e-14\n",
      "  -1.49028351e-13 -1.72506934e-13 -1.95374852e-13]]\n"
     ]
    }
   ],
   "source": [
    "# important features\n",
    "x=model.coef_\n",
    "print(x)"
   ]
  },
  {
   "cell_type": "code",
   "execution_count": 87,
   "metadata": {},
   "outputs": [
    {
     "data": {
      "text/plain": [
       "array(['no', 'yes'], dtype=object)"
      ]
     },
     "execution_count": 87,
     "metadata": {},
     "output_type": "execute_result"
    }
   ],
   "source": [
    "model.classes_"
   ]
  },
  {
   "cell_type": "code",
   "execution_count": 88,
   "metadata": {},
   "outputs": [],
   "source": [
    "from sklearn.metrics import classification_report, confusion_matrix"
   ]
  },
  {
   "cell_type": "code",
   "execution_count": 89,
   "metadata": {},
   "outputs": [
    {
     "name": "stdout",
     "output_type": "stream",
     "text": [
      "              precision    recall  f1-score   support\n",
      "\n",
      "          no       1.00      1.00      1.00      5193\n",
      "         yes       0.00      0.00      0.00        18\n",
      "\n",
      "    accuracy                           1.00      5211\n",
      "   macro avg       0.50      0.50      0.50      5211\n",
      "weighted avg       0.99      1.00      0.99      5211\n",
      "\n"
     ]
    },
    {
     "name": "stderr",
     "output_type": "stream",
     "text": [
      "C:\\Users\\surya\\anaconda3\\lib\\site-packages\\sklearn\\metrics\\_classification.py:1221: UndefinedMetricWarning: Precision and F-score are ill-defined and being set to 0.0 in labels with no predicted samples. Use `zero_division` parameter to control this behavior.\n",
      "  _warn_prf(average, modifier, msg_start, len(result))\n"
     ]
    }
   ],
   "source": [
    "print(classification_report(test_lab, model.predict(test_x)))"
   ]
  },
  {
   "cell_type": "code",
   "execution_count": 90,
   "metadata": {},
   "outputs": [
    {
     "ename": "AttributeError",
     "evalue": "'LogisticRegression' object has no attribute 'feature_names_'",
     "output_type": "error",
     "traceback": [
      "\u001b[1;31m---------------------------------------------------------------------------\u001b[0m",
      "\u001b[1;31mAttributeError\u001b[0m                            Traceback (most recent call last)",
      "\u001b[1;32m<ipython-input-90-dc72acfb495d>\u001b[0m in \u001b[0;36m<module>\u001b[1;34m\u001b[0m\n\u001b[1;32m----> 1\u001b[1;33m \u001b[0mmodel\u001b[0m\u001b[1;33m.\u001b[0m\u001b[0mfeature_names_\u001b[0m\u001b[1;33m\u001b[0m\u001b[1;33m\u001b[0m\u001b[0m\n\u001b[0m",
      "\u001b[1;31mAttributeError\u001b[0m: 'LogisticRegression' object has no attribute 'feature_names_'"
     ]
    }
   ],
   "source": [
    "model.feature_names_"
   ]
  },
  {
   "cell_type": "code",
   "execution_count": null,
   "metadata": {},
   "outputs": [],
   "source": []
  },
  {
   "cell_type": "code",
   "execution_count": null,
   "metadata": {},
   "outputs": [],
   "source": []
  },
  {
   "cell_type": "code",
   "execution_count": null,
   "metadata": {},
   "outputs": [],
   "source": []
  }
 ],
 "metadata": {
  "kernelspec": {
   "display_name": "Python 3",
   "language": "python",
   "name": "python3"
  },
  "language_info": {
   "codemirror_mode": {
    "name": "ipython",
    "version": 3
   },
   "file_extension": ".py",
   "mimetype": "text/x-python",
   "name": "python",
   "nbconvert_exporter": "python",
   "pygments_lexer": "ipython3",
   "version": "3.8.5"
  }
 },
 "nbformat": 4,
 "nbformat_minor": 4
}
